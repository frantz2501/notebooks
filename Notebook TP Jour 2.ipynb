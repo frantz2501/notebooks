{
 "cells": [
  {
   "cell_type": "code",
   "execution_count": 2,
   "metadata": {
    "ExecuteTime": {
     "end_time": "2019-04-28T09:21:07.399766Z",
     "start_time": "2019-04-28T09:21:05.341131Z"
    }
   },
   "outputs": [
    {
     "name": "stdout",
     "output_type": "stream",
     "text": [
      "The python version is 3.6.5\n",
      "The scikit-learn version is 0.20.3.\n"
     ]
    }
   ],
   "source": [
    "import sklearn\n",
    "import platform\n",
    "print('The python version is', platform.python_version())\n",
    "print('The scikit-learn version is {}.'.format(sklearn.__version__))"
   ]
  },
  {
   "cell_type": "code",
   "execution_count": 3,
   "metadata": {
    "ExecuteTime": {
     "end_time": "2019-04-28T09:21:12.509506Z",
     "start_time": "2019-04-28T09:21:09.132189Z"
    },
    "collapsed": true
   },
   "outputs": [],
   "source": [
    "import numpy as np\n",
    "\n",
    "from sklearn.datasets import load_digits\n",
    "digits = load_digits()\n",
    "X, y = digits.data, digits.target"
   ]
  },
  {
   "cell_type": "markdown",
   "metadata": {},
   "source": [
    "# Question 1"
   ]
  },
  {
   "cell_type": "markdown",
   "metadata": {},
   "source": [
    "On explore la taille et le type des données, on se remémore comment sélectionner seulement les élements d'une classe donnée, etc."
   ]
  },
  {
   "cell_type": "code",
   "execution_count": 108,
   "metadata": {
    "ExecuteTime": {
     "end_time": "2019-04-24T13:36:05.106392Z",
     "start_time": "2019-04-24T13:36:05.098585Z"
    },
    "scrolled": true
   },
   "outputs": [
    {
     "name": "stdout",
     "output_type": "stream",
     "text": [
      "Format de X=(1797, 64),\n",
      " format de y=(1797,)\n",
      "Type de X=float64,\n",
      " type de y=int32\n"
     ]
    }
   ],
   "source": [
    "# TODO: A COMPLETER\n",
    "print(\"Format de X={},\\n format de y={}\".format(X.shape, y.shape))\n",
    "print(\"Type de X={},\\n type de y={}\".format(X.dtype, y.dtype))"
   ]
  },
  {
   "cell_type": "markdown",
   "metadata": {},
   "source": [
    "# Question 2"
   ]
  },
  {
   "cell_type": "code",
   "execution_count": 109,
   "metadata": {
    "ExecuteTime": {
     "end_time": "2019-04-24T13:36:05.323064Z",
     "start_time": "2019-04-24T13:36:05.109320Z"
    }
   },
   "outputs": [
    {
     "data": {
      "image/png": "[encoded data removed]",
      "text/plain": [
       "<Figure size 432x288 with 1 Axes>"
      ]
     },
     "metadata": {},
     "output_type": "display_data"
    }
   ],
   "source": [
    "%matplotlib inline\n",
    "import matplotlib.pyplot as plt\n",
    "fig = plt.imshow(np.reshape(X[0], (8, 8)),\n",
    "                 interpolation='nearest', cmap=plt.cm.gray)"
   ]
  },
  {
   "cell_type": "markdown",
   "metadata": {},
   "source": [
    "# Question 3"
   ]
  },
  {
   "cell_type": "markdown",
   "metadata": {},
   "source": [
    "On affiche le nombre de classes."
   ]
  },
  {
   "cell_type": "code",
   "execution_count": 110,
   "metadata": {
    "ExecuteTime": {
     "end_time": "2019-04-24T13:36:05.335752Z",
     "start_time": "2019-04-24T13:36:05.325993Z"
    }
   },
   "outputs": [
    {
     "data": {
      "text/plain": [
       "'Le nombre de classes est : (10,)'"
      ]
     },
     "execution_count": 110,
     "metadata": {},
     "output_type": "execute_result"
    }
   ],
   "source": [
    "# TODO: A COMPLETER\n",
    "\"Le nombre de classes est : {}\".format(np.unique(y).shape)"
   ]
  },
  {
   "cell_type": "markdown",
   "metadata": {},
   "source": [
    "# Question 4"
   ]
  },
  {
   "cell_type": "markdown",
   "metadata": {},
   "source": [
    "On calcule et affiche sous forme d'images les moyennes et variances par classe."
   ]
  },
  {
   "cell_type": "code",
   "execution_count": 111,
   "metadata": {
    "ExecuteTime": {
     "end_time": "2019-04-24T13:36:05.368936Z",
     "start_time": "2019-04-24T13:36:05.338680Z"
    },
    "collapsed": true
   },
   "outputs": [],
   "source": [
    "# TODO: A COMPLETER\n",
    "\n",
    "# n, p = \n",
    "# n_classes = \n",
    "# mus = np.empty((n_classes, p), dtype=float)\n",
    "# sigma2s = np.empty((n_classes, p), dtype=float)\n",
    "# for k in range(n_classes):\n",
    "#     mus[k] = \n",
    "#     sigma2s[k] = \n",
    "n, p = X.shape\n",
    "n_classes = len(np.unique(y))\n",
    "mus = np.empty((n_classes, p), dtype=float)\n",
    "sigma2s = np.empty((n_classes, p), dtype=float)\n",
    "for k in range(n_classes):\n",
    "    mus[k] = np.mean(X[y==k], axis=0)\n",
    "    sigma2s[k] = np.var(X[y==k], axis=0)\n",
    "    #plt.figure(k)\n",
    "    #plt.imshow(np.reshape(X[k], (8, 8)), cmap=plt.cm.gray, interpolation='nearest')\n",
    "#plt.show()    "
   ]
  },
  {
   "cell_type": "code",
   "execution_count": 112,
   "metadata": {
    "ExecuteTime": {
     "end_time": "2019-04-24T13:36:06.496215Z",
     "start_time": "2019-04-24T13:36:05.371864Z"
    }
   },
   "outputs": [
    {
     "data": {
      "image/png": "[encoded data removed]",
      "text/plain": [
       "<Figure size 1008x144 with 10 Axes>"
      ]
     },
     "metadata": {},
     "output_type": "display_data"
    }
   ],
   "source": [
    "fig, axes = plt.subplots(nrows=1, ncols=10, figsize=(14, 2))\n",
    "\n",
    "for k in range(n_classes):\n",
    "    axes[k].imshow(np.reshape(mus[k], (8, 8)),\n",
    "                     interpolation='nearest', cmap=plt.cm.gray)"
   ]
  },
  {
   "cell_type": "code",
   "execution_count": 113,
   "metadata": {
    "ExecuteTime": {
     "end_time": "2019-04-24T13:36:07.619587Z",
     "start_time": "2019-04-24T13:36:06.499142Z"
    }
   },
   "outputs": [
    {
     "data": {
      "image/png": "[encoded data removed]",
      "text/plain": [
       "<Figure size 1008x144 with 10 Axes>"
      ]
     },
     "metadata": {},
     "output_type": "display_data"
    }
   ],
   "source": [
    "fig, axes = plt.subplots(nrows=1, ncols=10, figsize=(14, 2))\n",
    "for k in range(n_classes):\n",
    "    axes[k].imshow(np.reshape(sigma2s[k], (8, 8)),\n",
    "                     interpolation='nearest', cmap=plt.cm.gray)"
   ]
  },
  {
   "cell_type": "markdown",
   "metadata": {},
   "source": [
    "# Question 5"
   ]
  },
  {
   "cell_type": "markdown",
   "metadata": {},
   "source": [
    "On normalise les données grâce à `StandardScaler`."
   ]
  },
  {
   "cell_type": "code",
   "execution_count": 114,
   "metadata": {
    "ExecuteTime": {
     "end_time": "2019-04-24T13:36:07.627397Z",
     "start_time": "2019-04-24T13:36:07.622517Z"
    },
    "collapsed": true
   },
   "outputs": [],
   "source": [
    "from sklearn.preprocessing import StandardScaler"
   ]
  },
  {
   "cell_type": "markdown",
   "metadata": {
    "collapsed": true
   },
   "source": [
    "Cela permet d\\'éviter les effets de bord pour certains classifieurs qui se comporteraient mal en cas de données non normales/centrées."
   ]
  },
  {
   "cell_type": "markdown",
   "metadata": {},
   "source": [
    "# Question 6"
   ]
  },
  {
   "cell_type": "markdown",
   "metadata": {},
   "source": [
    "Dans cette question, on va simplement entraîner nos classifieurs (avec les hyperparamètres par défaut pour l'instant) sur toutes nos données et afficher le taux de prédictions correctes sur les données d'apprentissage."
   ]
  },
  {
   "cell_type": "markdown",
   "metadata": {},
   "source": [
    "## Naive Bayes"
   ]
  },
  {
   "cell_type": "code",
   "execution_count": 121,
   "metadata": {
    "ExecuteTime": {
     "end_time": "2019-04-24T13:50:58.922323Z",
     "start_time": "2019-04-24T13:50:58.901828Z"
    }
   },
   "outputs": [
    {
     "data": {
      "text/plain": [
       "0.7996661101836394"
      ]
     },
     "execution_count": 121,
     "metadata": {},
     "output_type": "execute_result"
    }
   ],
   "source": [
    "from sklearn.naive_bayes import GaussianNB\n",
    "\n",
    "# TODO: A COMPLETER\n",
    "clf1 = GaussianNB()\n",
    "\n",
    "scaler = StandardScaler()\n",
    "scaler.fit(X)\n",
    "X_n = scaler.transform(X)\n",
    "\n",
    "clf1.fit(X_n, y)\n",
    "clf1.score(X_n, y)"
   ]
  },
  {
   "cell_type": "markdown",
   "metadata": {},
   "source": [
    "## Logistic Regression"
   ]
  },
  {
   "cell_type": "code",
   "execution_count": 122,
   "metadata": {
    "ExecuteTime": {
     "end_time": "2019-04-24T13:51:08.957545Z",
     "start_time": "2019-04-24T13:51:08.681337Z"
    }
   },
   "outputs": [
    {
     "name": "stderr",
     "output_type": "stream",
     "text": [
      "C:\\Users\\cyberchinois\\Anaconda3\\lib\\site-packages\\sklearn\\linear_model\\logistic.py:433: FutureWarning: Default solver will be changed to 'lbfgs' in 0.22. Specify a solver to silence this warning.\n",
      "  FutureWarning)\n",
      "C:\\Users\\cyberchinois\\Anaconda3\\lib\\site-packages\\sklearn\\linear_model\\logistic.py:460: FutureWarning: Default multi_class will be changed to 'auto' in 0.22. Specify the multi_class option to silence this warning.\n",
      "  \"this warning.\", FutureWarning)\n"
     ]
    },
    {
     "data": {
      "text/plain": [
       "0.9872008903728436"
      ]
     },
     "execution_count": 122,
     "metadata": {},
     "output_type": "execute_result"
    }
   ],
   "source": [
    "from sklearn.linear_model import LogisticRegression\n",
    "\n",
    "# TODO: A COMPLETER\n",
    "clf2 = LogisticRegression()\n",
    "clf2.fit(X_n, y)\n",
    "clf2.score(X_n, y)"
   ]
  },
  {
   "cell_type": "markdown",
   "metadata": {},
   "source": [
    "## Decision Tree"
   ]
  },
  {
   "cell_type": "code",
   "execution_count": 123,
   "metadata": {
    "ExecuteTime": {
     "end_time": "2019-04-24T13:51:16.257023Z",
     "start_time": "2019-04-24T13:51:16.225792Z"
    }
   },
   "outputs": [
    {
     "data": {
      "text/plain": [
       "1.0"
      ]
     },
     "execution_count": 123,
     "metadata": {},
     "output_type": "execute_result"
    }
   ],
   "source": [
    "from sklearn.tree import DecisionTreeClassifier\n",
    "\n",
    "# TODO: A COMPLETER\n",
    "clf3 = DecisionTreeClassifier()\n",
    "clf3.fit(X_n, y)\n",
    "clf3.score(X_n, y)"
   ]
  },
  {
   "cell_type": "markdown",
   "metadata": {},
   "source": [
    "# Question 7"
   ]
  },
  {
   "cell_type": "markdown",
   "metadata": {},
   "source": [
    "Dans cette question on commente les résultats ci-dessus, on explique pourquoi ce n'est pas une bonne manière d'évaluer un modèle et on mentionne des stratégies plus adaptées."
   ]
  },
  {
   "cell_type": "markdown",
   "metadata": {},
   "source": [
    "`Pour un modèle comme le decisiontree, on procède à de l'overfitting.`"
   ]
  },
  {
   "cell_type": "markdown",
   "metadata": {},
   "source": [
    "# Question 8"
   ]
  },
  {
   "cell_type": "markdown",
   "metadata": {},
   "source": [
    "Dans cette question on explique quelle doit être la forme de la courbe de validation croisée en fonction de la taille\n",
    "de l’ensemble d’apprentissage."
   ]
  },
  {
   "cell_type": "code",
   "execution_count": 5,
   "metadata": {
    "ExecuteTime": {
     "end_time": "2019-04-28T09:21:25.455169Z",
     "start_time": "2019-04-28T09:21:25.449184Z"
    }
   },
   "outputs": [
    {
     "data": {
      "text/plain": [
       "(1797,)"
      ]
     },
     "execution_count": 5,
     "metadata": {},
     "output_type": "execute_result"
    }
   ],
   "source": [
    "y.shape"
   ]
  },
  {
   "cell_type": "markdown",
   "metadata": {},
   "source": [
    "# Question 9"
   ]
  },
  {
   "cell_type": "markdown",
   "metadata": {},
   "source": [
    "Dans cette question on utilise la fonction `cross_val_score` pour faire varier la taille de l'ensemble d'apprentissage et vérifier la réponse à la question 8."
   ]
  },
  {
   "cell_type": "code",
   "execution_count": 141,
   "metadata": {
    "ExecuteTime": {
     "end_time": "2019-04-24T14:14:43.884348Z",
     "start_time": "2019-04-24T14:12:12.819214Z"
    }
   },
   "outputs": [
    {
     "name": "stderr",
     "output_type": "stream",
     "text": [
      "C:\\Users\\cyberchinois\\Anaconda3\\lib\\site-packages\\sklearn\\linear_model\\logistic.py:758: ConvergenceWarning: lbfgs failed to converge. Increase the number of iterations.\n",
      "  \"of iterations.\", ConvergenceWarning)\n",
      "C:\\Users\\cyberchinois\\Anaconda3\\lib\\site-packages\\sklearn\\linear_model\\logistic.py:758: ConvergenceWarning: lbfgs failed to converge. Increase the number of iterations.\n",
      "  \"of iterations.\", ConvergenceWarning)\n"
     ]
    }
   ],
   "source": [
    "from sklearn.model_selection import cross_val_score\n",
    "cv_values = [2, 3, 10, 50] # nombre de folds à essayer\n",
    "train_sizes = [n - n / e for e in cv_values] # taille d'apprentissage pour chaque nombre de fold\n",
    "results = np.empty((len(cv_values), 3))\n",
    "\n",
    "# TODO: A COMPLETER\n",
    "\n",
    "# for k, cv in enumerate(cv_values):\n",
    "#     results[k, 0] = \n",
    "#     results[k, 1] = \n",
    "#     results[k, 2] = \n",
    "clf1 = GaussianNB()\n",
    "clf2 = LogisticRegression(solver='lbfgs', max_iter=1000, multi_class='ovr')\n",
    "clf3 = DecisionTreeClassifier()\n",
    "for k, cv in enumerate(cv_values):\n",
    "    results[k, 0] = np.mean(cross_val_score(clf1, X, y, cv=cv))\n",
    "    results[k, 1] = np.mean(cross_val_score(clf2, X, y, cv=cv))\n",
    "    results[k, 2] = np.mean(cross_val_score(clf3, X, y, cv=cv))"
   ]
  },
  {
   "cell_type": "markdown",
   "metadata": {},
   "source": [
    "On trace une courbe du score en fonction de la taille de l'ensemble d'apprentissage."
   ]
  },
  {
   "cell_type": "code",
   "execution_count": 142,
   "metadata": {
    "ExecuteTime": {
     "end_time": "2019-04-24T14:14:44.243516Z",
     "start_time": "2019-04-24T14:14:43.886302Z"
    }
   },
   "outputs": [
    {
     "data": {
      "text/plain": [
       "<matplotlib.legend.Legend at 0x24936ca9da0>"
      ]
     },
     "execution_count": 142,
     "metadata": {},
     "output_type": "execute_result"
    },
    {
     "data": {
      "image/png": "[encoded data removed]",
      "text/plain": [
       "<Figure size 432x288 with 1 Axes>"
      ]
     },
     "metadata": {},
     "output_type": "display_data"
    }
   ],
   "source": [
    "plt.plot(train_sizes, results[:, 0], label='Naive Bayes')\n",
    "plt.plot(train_sizes, results[:, 1], label='Logistic Regression')\n",
    "plt.plot(train_sizes, results[:, 2], label='Decision Tree')\n",
    "plt.legend(loc=6)"
   ]
  },
  {
   "cell_type": "markdown",
   "metadata": {},
   "source": [
    "# Question 10"
   ]
  },
  {
   "cell_type": "markdown",
   "metadata": {},
   "source": [
    "Dans cette question on explique quelle doit être la forme de la courbe de performance sur l’ensemble d’apprentis-\n",
    "sage en fonction de sa taille."
   ]
  },
  {
   "cell_type": "markdown",
   "metadata": {},
   "source": [
    "# Question 11"
   ]
  },
  {
   "cell_type": "markdown",
   "metadata": {},
   "source": [
    "Dans cette question on vérifie la réponse à la question 10 à l'aide de la fonction `plot_learning_curve`."
   ]
  },
  {
   "cell_type": "code",
   "execution_count": 144,
   "metadata": {
    "ExecuteTime": {
     "end_time": "2019-04-24T14:20:05.053550Z",
     "start_time": "2019-04-24T14:20:05.026222Z"
    },
    "collapsed": true
   },
   "outputs": [],
   "source": [
    "def learning_curve(estimator, X, y, cv, train_sizes=np.linspace(0.1, 1.0, 5)):\n",
    "    \"\"\"Learning curve.\n",
    "\n",
    "    Determines cross-validated training and test scores for different training\n",
    "    set sizes.\n",
    "\n",
    "    A cross-validation generator splits the whole dataset k times in training\n",
    "    and test data. Subsets of the training set with varying sizes will be used\n",
    "    to train the estimator and a score for each training subset size and the\n",
    "    test set will be computed. Afterwards, the scores will be averaged over\n",
    "    all k runs for each training subset size.\n",
    "\n",
    "    Parameters\n",
    "    ----------\n",
    "    estimator : object type that implements the \"fit\" and \"predict\" methods\n",
    "        An object of that type which is cloned for each validation.\n",
    "\n",
    "    X : array-like, shape (n_samples, n_features)\n",
    "        Training vector, where n_samples is the number of samples and\n",
    "        n_features is the number of features.\n",
    "\n",
    "    y : array-like, shape (n_samples) or (n_samples, n_features), optional\n",
    "        Target relative to X for classification or regression;\n",
    "        None for unsupervised learning.\n",
    "\n",
    "    cv : cross-validation generator\n",
    "        Cross-validation object, see sklearn.model_selection module\n",
    "        for the list of possible objects\n",
    "\n",
    "    train_sizes : array-like, shape (n_ticks,), dtype float\n",
    "        Relative numbers of training examples that will be used to\n",
    "        generate the learning curve. If the dtype is float, it is regarded as a\n",
    "        fraction of the maximum size of the training set (that is determined\n",
    "        by the selected validation method), i.e. it has to be within (0, 1].\n",
    "        (default: np.linspace(0.1, 1.0, 5))\n",
    "\n",
    "    Returns\n",
    "    -------\n",
    "    train_sizes_abs : array, shape (n_unique_ticks,), dtype int\n",
    "        Numbers of training examples that has been used to generate the\n",
    "        learning curve. Note that the number of ticks might be less\n",
    "        than n_ticks because duplicate entries will be removed.\n",
    "\n",
    "    train_scores : array, shape (n_ticks, n_cv_folds)\n",
    "        Scores on training sets.\n",
    "\n",
    "    test_scores : array, shape (n_ticks, n_cv_folds)\n",
    "        Scores on test set.\n",
    "    \"\"\"\n",
    "\n",
    "    n_max_training_samples = len(list(cv.split(X))[0][0])\n",
    "    train_sizes_abs = (train_sizes * n_max_training_samples).astype(int)\n",
    "\n",
    "    train_scores = []\n",
    "    test_scores = []\n",
    "\n",
    "    for train, test in cv.split(X):\n",
    "        X_train, y_train, X_test, y_test = X[train], y[train], X[test], y[test]\n",
    "        this_train_scores = []\n",
    "        this_test_scores = []\n",
    "        for n in train_sizes_abs:\n",
    "            estimator.fit(X_train[:n], y_train[:n])\n",
    "            this_train_scores.append(estimator.score(X_train[:n], y_train[:n]))\n",
    "            this_test_scores.append(estimator.score(X_test, y_test))\n",
    "\n",
    "        train_scores.append(this_train_scores)\n",
    "        test_scores.append(this_test_scores)\n",
    "\n",
    "    return train_sizes_abs, np.transpose(train_scores), np.transpose(test_scores)\n",
    "\n",
    "\n",
    "def plot_learning_curve(estimator, title, X, y, ylim=None, cv=None,\n",
    "                        train_sizes=np.linspace(.1, 1.0, 5)):\n",
    "    \"\"\"Generate a simple plot of the test and traning learning curve.\n",
    "\n",
    "    Parameters\n",
    "    ----------\n",
    "    estimator : object type that implements the \"fit\" and \"predict\" methods\n",
    "        An object of that type which is cloned for each validation.\n",
    "\n",
    "    title : string\n",
    "        Title for the chart.\n",
    "\n",
    "    X : array-like, shape (n_samples, n_features)\n",
    "        Training vector, where n_samples is the number of samples and\n",
    "        n_features is the number of features.\n",
    "\n",
    "    y : array-like, shape (n_samples) or (n_samples, n_features), optional\n",
    "        Target relative to X for classification or regression;\n",
    "        None for unsupervised learning.\n",
    "\n",
    "    ylim : tuple, shape (ymin, ymax), optional\n",
    "        Defines minimum and maximum yvalues plotted.\n",
    "\n",
    "    cv : integer, cross-validation generator, optional\n",
    "        If an integer is passed, it is the number of folds (defaults to 3).\n",
    "        Specific cross-validation objects can be passed, see\n",
    "        sklearn.cross_validation module for the list of possible objects\n",
    "\n",
    "    n_jobs : integer, optional\n",
    "        Number of jobs to run in parallel (default 1).\n",
    "    \"\"\"\n",
    "    plt.figure()\n",
    "    plt.title(title)\n",
    "    if ylim is not None:\n",
    "        plt.ylim(*ylim)\n",
    "    plt.xlabel(\"Training examples\")\n",
    "    plt.ylabel(\"Score\")\n",
    "    train_sizes, train_scores, test_scores = learning_curve(\n",
    "        estimator, X, y, cv=cv, train_sizes=train_sizes)\n",
    "    train_scores_mean = np.mean(train_scores, axis=1)\n",
    "    train_scores_std = np.std(train_scores, axis=1)\n",
    "    test_scores_mean = np.mean(test_scores, axis=1)\n",
    "    test_scores_std = np.std(test_scores, axis=1)\n",
    "    plt.grid()\n",
    "\n",
    "    plt.fill_between(train_sizes, train_scores_mean - train_scores_std,\n",
    "                     train_scores_mean + train_scores_std, alpha=0.1,\n",
    "                     color=\"r\")\n",
    "    plt.fill_between(train_sizes, test_scores_mean - test_scores_std,\n",
    "                     test_scores_mean + test_scores_std, alpha=0.1, color=\"g\")\n",
    "    plt.plot(train_sizes, train_scores_mean, 'o-', color=\"r\",\n",
    "             label=\"Training score\")\n",
    "    plt.plot(train_sizes, test_scores_mean, 'o-', color=\"g\",\n",
    "             label=\"Cross-validation score\")\n",
    "\n",
    "    plt.legend(loc=\"best\")\n",
    "    return plt\n"
   ]
  },
  {
   "cell_type": "code",
   "execution_count": 148,
   "metadata": {
    "ExecuteTime": {
     "end_time": "2019-04-24T14:27:25.478444Z",
     "start_time": "2019-04-24T14:24:40.329644Z"
    }
   },
   "outputs": [
    {
     "name": "stderr",
     "output_type": "stream",
     "text": [
      "C:\\Users\\cyberchinois\\Anaconda3\\lib\\site-packages\\sklearn\\linear_model\\logistic.py:758: ConvergenceWarning: lbfgs failed to converge. Increase the number of iterations.\n",
      "  \"of iterations.\", ConvergenceWarning)\n"
     ]
    },
    {
     "data": {
      "text/plain": [
       "<module 'matplotlib.pyplot' from 'C:\\\\Users\\\\cyberchinois\\\\Anaconda3\\\\lib\\\\site-packages\\\\matplotlib\\\\pyplot.py'>"
      ]
     },
     "execution_count": 148,
     "metadata": {},
     "output_type": "execute_result"
    },
    {
     "data": {
      "image/png": "[encoded data removed]",
      "text/plain": [
       "<Figure size 432x288 with 1 Axes>"
      ]
     },
     "metadata": {},
     "output_type": "display_data"
    },
    {
     "data": {
      "image/png": "[encoded data removed]",
      "text/plain": [
       "<Figure size 432x288 with 1 Axes>"
      ]
     },
     "metadata": {},
     "output_type": "display_data"
    },
    {
     "data": {
      "image/png": "[encoded data removed]",
      "text/plain": [
       "<Figure size 432x288 with 1 Axes>"
      ]
     },
     "metadata": {},
     "output_type": "display_data"
    }
   ],
   "source": [
    "from sklearn.model_selection import ShuffleSplit\n",
    "\n",
    "cv = ShuffleSplit(n_splits=30, test_size=0.2)\n",
    "clf1 = GaussianNB()\n",
    "clf2 = LogisticRegression(solver='lbfgs', max_iter=1000, multi_class='ovr')\n",
    "clf3 = DecisionTreeClassifier()\n",
    "\n",
    "# TODO: A COMPLETER\n",
    "\n",
    "plot_learning_curve(clf1, \"GaussianNB\", X, y, ylim=None, cv=cv,\n",
    "                        train_sizes=np.linspace(.1, 1.0, 5))\n",
    "plot_learning_curve(clf2, \"LogisticRegression\", X, y, ylim=None, cv=cv,\n",
    "                        train_sizes=np.linspace(.1, 1.0, 5))\n",
    "plot_learning_curve(clf3, \"DecisionTreeClassifier\", X, y, ylim=None, cv=cv,\n",
    "                        train_sizes=np.linspace(.1, 1.0, 5))"
   ]
  },
  {
   "cell_type": "markdown",
   "metadata": {},
   "source": [
    "# Question 12"
   ]
  },
  {
   "cell_type": "markdown",
   "metadata": {},
   "source": [
    "Dans cette question on fait la même chose que pour la question 11 avec un SVM."
   ]
  },
  {
   "cell_type": "code",
   "execution_count": 149,
   "metadata": {
    "ExecuteTime": {
     "end_time": "2019-04-24T14:28:40.453342Z",
     "start_time": "2019-04-24T14:28:38.149984Z"
    }
   },
   "outputs": [
    {
     "data": {
      "text/plain": [
       "<module 'matplotlib.pyplot' from 'C:\\\\Users\\\\cyberchinois\\\\Anaconda3\\\\lib\\\\site-packages\\\\matplotlib\\\\pyplot.py'>"
      ]
     },
     "execution_count": 149,
     "metadata": {},
     "output_type": "execute_result"
    },
    {
     "data": {
      "image/png": "[encoded data removed]",
      "text/plain": [
       "<Figure size 432x288 with 1 Axes>"
      ]
     },
     "metadata": {},
     "output_type": "display_data"
    }
   ],
   "source": [
    "from sklearn.svm import SVC\n",
    "clf_SVM = SVC(gamma=0.01)\n",
    "\n",
    "# TODO: A COMPLETER\n",
    "plot_learning_curve(clf, \"SVM\", X, y, ylim=None, cv=cv,\n",
    "                        train_sizes=np.linspace(.1, 1.0, 5))"
   ]
  },
  {
   "cell_type": "markdown",
   "metadata": {},
   "source": [
    "# Question 13"
   ]
  },
  {
   "cell_type": "markdown",
   "metadata": {},
   "source": [
    "Dans cette question on utilise un schéma de validation pour sélectionner les hyperparamètres des modèles, par exemple le paramètre de profondeur maximale de l'arbre (`max_depth`) pour les arbres de décision."
   ]
  },
  {
   "cell_type": "code",
   "execution_count": 161,
   "metadata": {
    "ExecuteTime": {
     "end_time": "2019-04-24T15:42:04.754375Z",
     "start_time": "2019-04-24T15:42:04.540632Z"
    }
   },
   "outputs": [
    {
     "name": "stderr",
     "output_type": "stream",
     "text": [
      "C:\\Users\\cyberchinois\\Anaconda3\\lib\\site-packages\\sklearn\\model_selection\\_split.py:2053: FutureWarning: You should specify a value for 'cv' instead of relying on the default value. The default value will change from 3 to 5 in version 0.22.\n",
      "  warnings.warn(CV_WARNING, FutureWarning)\n"
     ]
    },
    {
     "ename": "AttributeError",
     "evalue": "'GridSearchCV' object has no attribute 'cv_result_'",
     "output_type": "error",
     "traceback": [
      "\u001b[1;31m---------------------------------------------------------------------------\u001b[0m",
      "\u001b[1;31mAttributeError\u001b[0m                            Traceback (most recent call last)",
      "\u001b[1;32m<ipython-input-161-11cfb767ea8f>\u001b[0m in \u001b[0;36m<module>\u001b[1;34m()\u001b[0m\n\u001b[0;32m      7\u001b[0m \u001b[0mgs\u001b[0m \u001b[1;33m=\u001b[0m \u001b[0mGridSearchCV\u001b[0m\u001b[1;33m(\u001b[0m\u001b[0mclf\u001b[0m\u001b[1;33m,\u001b[0m \u001b[0mparam_grid\u001b[0m\u001b[1;33m=\u001b[0m\u001b[0mmax_depth_grid\u001b[0m\u001b[1;33m)\u001b[0m\u001b[1;33m\u001b[0m\u001b[0m\n\u001b[0;32m      8\u001b[0m \u001b[0mgs\u001b[0m\u001b[1;33m.\u001b[0m\u001b[0mfit\u001b[0m\u001b[1;33m(\u001b[0m\u001b[0mX\u001b[0m\u001b[1;33m,\u001b[0m \u001b[0my\u001b[0m\u001b[1;33m)\u001b[0m\u001b[1;33m\u001b[0m\u001b[0m\n\u001b[1;32m----> 9\u001b[1;33m \u001b[0mplt\u001b[0m\u001b[1;33m.\u001b[0m\u001b[0mplot\u001b[0m\u001b[1;33m(\u001b[0m\u001b[0mgs\u001b[0m\u001b[1;33m.\u001b[0m\u001b[0mcv_result_\u001b[0m\u001b[1;33m[\u001b[0m\u001b[1;34m'mean_test_score'\u001b[0m\u001b[1;33m]\u001b[0m\u001b[1;33m)\u001b[0m\u001b[1;33m\u001b[0m\u001b[0m\n\u001b[0m",
      "\u001b[1;31mAttributeError\u001b[0m: 'GridSearchCV' object has no attribute 'cv_result_'"
     ]
    }
   ],
   "source": [
    "from sklearn.model_selection import GridSearchCV\n",
    "\n",
    "# TODO: A COMPLETER\n",
    "\n",
    "clf = DecisionTreeClassifier()\n",
    "max_depth_grid = {'max_depth' : [1, 10, 50, 100]}\n",
    "gs = GridSearchCV(clf, param_grid=max_depth_grid)\n",
    "gs.fit(X, y)\n",
    "plt.plot(gs.cv_result_['mean_test_score'])"
   ]
  },
  {
   "cell_type": "code",
   "execution_count": 155,
   "metadata": {
    "ExecuteTime": {
     "end_time": "2019-04-24T15:29:54.517368Z",
     "start_time": "2019-04-24T15:29:51.944640Z"
    }
   },
   "outputs": [
    {
     "ename": "ValueError",
     "evalue": "DataFrame constructor not properly called!",
     "output_type": "error",
     "traceback": [
      "\u001b[1;31m---------------------------------------------------------------------------\u001b[0m",
      "\u001b[1;31mValueError\u001b[0m                                Traceback (most recent call last)",
      "\u001b[1;32m<ipython-input-155-d53d1a8b0114>\u001b[0m in \u001b[0;36m<module>\u001b[1;34m()\u001b[0m\n\u001b[0;32m      1\u001b[0m \u001b[1;32mimport\u001b[0m \u001b[0mpandas\u001b[0m \u001b[1;32mas\u001b[0m \u001b[0mpd\u001b[0m\u001b[1;33m\u001b[0m\u001b[0m\n\u001b[1;32m----> 2\u001b[1;33m \u001b[0mpd\u001b[0m\u001b[1;33m.\u001b[0m\u001b[0mDataFrame\u001b[0m\u001b[1;33m(\u001b[0m\u001b[0mcv_result\u001b[0m\u001b[1;33m)\u001b[0m\u001b[1;33m\u001b[0m\u001b[0m\n\u001b[0m",
      "\u001b[1;32m~\\Anaconda3\\lib\\site-packages\\pandas\\core\\frame.py\u001b[0m in \u001b[0;36m__init__\u001b[1;34m(self, data, index, columns, dtype, copy)\u001b[0m\n\u001b[0;32m    420\u001b[0m                                          dtype=values.dtype, copy=False)\n\u001b[0;32m    421\u001b[0m             \u001b[1;32melse\u001b[0m\u001b[1;33m:\u001b[0m\u001b[1;33m\u001b[0m\u001b[0m\n\u001b[1;32m--> 422\u001b[1;33m                 \u001b[1;32mraise\u001b[0m \u001b[0mValueError\u001b[0m\u001b[1;33m(\u001b[0m\u001b[1;34m'DataFrame constructor not properly called!'\u001b[0m\u001b[1;33m)\u001b[0m\u001b[1;33m\u001b[0m\u001b[0m\n\u001b[0m\u001b[0;32m    423\u001b[0m \u001b[1;33m\u001b[0m\u001b[0m\n\u001b[0;32m    424\u001b[0m         \u001b[0mNDFrame\u001b[0m\u001b[1;33m.\u001b[0m\u001b[0m__init__\u001b[0m\u001b[1;33m(\u001b[0m\u001b[0mself\u001b[0m\u001b[1;33m,\u001b[0m \u001b[0mmgr\u001b[0m\u001b[1;33m,\u001b[0m \u001b[0mfastpath\u001b[0m\u001b[1;33m=\u001b[0m\u001b[1;32mTrue\u001b[0m\u001b[1;33m)\u001b[0m\u001b[1;33m\u001b[0m\u001b[0m\n",
      "\u001b[1;31mValueError\u001b[0m: DataFrame constructor not properly called!"
     ]
    }
   ],
   "source": [
    "import pandas as pd\n",
    "pd.DataFrame(cv_result)"
   ]
  },
  {
   "cell_type": "markdown",
   "metadata": {},
   "source": [
    "# Question 14"
   ]
  },
  {
   "cell_type": "markdown",
   "metadata": {},
   "source": [
    "Dans cette question on expérimente avec les forêts aléatoires en réglant le nombre d'arbres."
   ]
  },
  {
   "cell_type": "code",
   "execution_count": null,
   "metadata": {
    "ExecuteTime": {
     "end_time": "2019-04-24T13:36:08.247156Z",
     "start_time": "2019-04-24T13:36:04.999Z"
    },
    "collapsed": true
   },
   "outputs": [],
   "source": [
    "from sklearn.ensemble import RandomForestClassifier\n",
    "clf_forest = RandomForestClassifier()\n",
    "\n",
    "# TODO: A COMPLETER\n"
   ]
  }
 ],
 "metadata": {
  "anaconda-cloud": {},
  "kernelspec": {
   "display_name": "Python 3",
   "language": "python",
   "name": "python3"
  },
  "language_info": {
   "codemirror_mode": {
    "name": "ipython",
    "version": 3
   },
   "file_extension": ".py",
   "mimetype": "text/x-python",
   "name": "python",
   "nbconvert_exporter": "python",
   "pygments_lexer": "ipython3",
   "version": "3.6.0"
  },
  "toc": {
   "base_numbering": 1,
   "nav_menu": {},
   "number_sections": true,
   "sideBar": true,
   "skip_h1_title": false,
   "title_cell": "Table of Contents",
   "title_sidebar": "Contents",
   "toc_cell": false,
   "toc_position": {},
   "toc_section_display": true,
   "toc_window_display": false
  }
 },
 "nbformat": 4,
 "nbformat_minor": 1
}
